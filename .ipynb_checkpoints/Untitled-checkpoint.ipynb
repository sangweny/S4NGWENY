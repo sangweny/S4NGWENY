{
 "cells": [
  {
   "cell_type": "code",
   "execution_count": 2,
   "metadata": {},
   "outputs": [
    {
     "name": "stdout",
     "output_type": "stream",
     "text": [
      "니가 일한 시간은?77\n",
      "77시간에 385달러 벌었습니다.\n",
      "77시간에 439731.60000000003원 벌었습니다.\n"
     ]
    }
   ],
   "source": [
    "wage=5\n",
    "e_r=1142.16\n",
    "time = int(input('네가 일한 시간은?'))\n",
    "dollar = wage*time\n",
    "won = dollar*e_r\n",
    "print(f\"{time}시간에 {dollar}달러 벌었습니다.\")\n",
    "print(f\"{time}시간에 {won}원 벌었습니다.\")"
   ]
  },
  {
   "cell_type": "code",
   "execution_count": 4,
   "metadata": {},
   "outputs": [
    {
     "name": "stdout",
     "output_type": "stream",
     "text": [
      "철수야 넌 뭐낼거야?가위\n",
      "영희야 넌 뭐낼거야?가위\n",
      "비겼습니다.\n"
     ]
    }
   ],
   "source": [
    "a=input('철수야 넌 뭐낼거야?') \n",
    "b=input('영희야 넌 뭐낼거야?')\n",
    "\n",
    "if a=='가위':\n",
    "    if b=='가위':\n",
    "        print('비겼습니다.')\n",
    "    elif b=='바위':\n",
    "        print('영희가 이겼습니다.')\n",
    "    else :\n",
    "        print('철수가 이겼습니다.')\n",
    "        \n",
    "elif a=='바위':\n",
    "    if b=='가위':\n",
    "        print('영희가 이겼습니다.')\n",
    "    elif b=='바위':\n",
    "        print('비겼습니다')\n",
    "    else :\n",
    "        print('철수가 이겼습니다.')\n",
    "        \n",
    "elif a=='보':\n",
    "    if b=='가위':\n",
    "        print('철수가 이겼습니다.')\n",
    "    elif b=='바위':\n",
    "        print('영희가 이겼습니다.')\n",
    "    else :\n",
    "        print('비겼습니다')"
   ]
  },
  {
   "cell_type": "code",
   "execution_count": 6,
   "metadata": {},
   "outputs": [
    {
     "name": "stdout",
     "output_type": "stream",
     "text": [
      "철수?가위\n",
      "영희?보\n",
      "철수승\n"
     ]
    }
   ],
   "source": [
    "a=input('철수?')\n",
    "b=input('영희?')\n",
    "\n",
    "if a==b:\n",
    "    print('비겼습니다.')\n",
    "else:\n",
    "    if [a,b]==['가위','보'] or ['바위','가위'] or ['보','가위']:\n",
    "        print('철수 승')\n",
    "    else :\n",
    "        print('영희 승')"
   ]
  },
  {
   "cell_type": "code",
   "execution_count": 7,
   "metadata": {},
   "outputs": [
    {
     "name": "stdout",
     "output_type": "stream",
     "text": [
      "2\n",
      "4\n",
      "6\n",
      "8\n",
      "10\n",
      "12\n",
      "14\n",
      "16\n",
      "18\n",
      "20\n",
      "22\n",
      "24\n",
      "26\n",
      "28\n",
      "30\n",
      "32\n",
      "34\n",
      "36\n",
      "38\n",
      "40\n",
      "42\n",
      "44\n",
      "46\n",
      "48\n",
      "50\n",
      "52\n",
      "54\n",
      "56\n",
      "58\n",
      "60\n",
      "62\n",
      "64\n",
      "66\n",
      "68\n",
      "70\n",
      "72\n",
      "74\n",
      "76\n",
      "78\n",
      "80\n",
      "82\n",
      "84\n",
      "86\n",
      "88\n",
      "90\n",
      "92\n",
      "94\n",
      "96\n",
      "98\n",
      "100\n"
     ]
    }
   ],
   "source": [
    "a=1 \n",
    "while a < 101:\n",
    "\n",
    "    a+=1\n",
    "    \n",
    "    if a%2==0:\n",
    "        print(a)"
   ]
  },
  {
   "cell_type": "code",
   "execution_count": 18,
   "metadata": {
    "scrolled": true
   },
   "outputs": [
    {
     "name": "stdout",
     "output_type": "stream",
     "text": [
      "*     \n",
      "**    \n",
      "***   \n",
      "****  \n",
      "***** \n",
      "     *\n",
      "    **\n",
      "   ***\n",
      "  ****\n",
      " *****\n",
      "*****\n",
      "**** \n",
      "***  \n",
      "**   \n",
      "*    \n",
      "     \n"
     ]
    }
   ],
   "source": [
    "for i in range(1,6):\n",
    "    star=\"*\"*i\n",
    "    blank=\" \"*(6-i)\n",
    "    \n",
    "    print(star+blank)\n",
    "    \n",
    "for y in range(1,6):\n",
    "    staa=\"*\"*y\n",
    "    blann=\" \"*(6-y)\n",
    "    \n",
    "    print(blann+staa)\n",
    "    \n",
    "    \n",
    "for j in range(0,6):\n",
    "    stra=\"*\"*(5-j)\n",
    "    blakn=\" \"*j\n",
    "    \n",
    "    print(stra+blakn)"
   ]
  },
  {
   "cell_type": "code",
   "execution_count": 19,
   "metadata": {},
   "outputs": [
    {
     "ename": "NameError",
     "evalue": "name 's' is not defined",
     "output_type": "error",
     "traceback": [
      "\u001b[1;31m---------------------------------------------------------------------------\u001b[0m",
      "\u001b[1;31mNameError\u001b[0m                                 Traceback (most recent call last)",
      "\u001b[1;32m<ipython-input-19-347cdbc5b9a3>\u001b[0m in \u001b[0;36m<module>\u001b[1;34m\u001b[0m\n\u001b[1;32m----> 1\u001b[1;33m \u001b[1;32mwhile\u001b[0m \u001b[0ms\u001b[0m \u001b[1;33m==\u001b[0m \u001b[1;32mFalse\u001b[0m\u001b[1;33m:\u001b[0m\u001b[1;33m\u001b[0m\u001b[1;33m\u001b[0m\u001b[0m\n\u001b[0m\u001b[0;32m      2\u001b[0m     \u001b[0ma\u001b[0m\u001b[1;33m+=\u001b[0m\u001b[1;36m1\u001b[0m\u001b[1;33m\u001b[0m\u001b[1;33m\u001b[0m\u001b[0m\n\u001b[0;32m      3\u001b[0m \u001b[1;33m\u001b[0m\u001b[0m\n\u001b[0;32m      4\u001b[0m     \u001b[1;32mif\u001b[0m \u001b[0ma\u001b[0m\u001b[1;33m%\u001b[0m\u001b[1;36m23\u001b[0m\u001b[1;33m==\u001b[0m\u001b[1;36m0\u001b[0m\u001b[1;33m:\u001b[0m\u001b[1;33m\u001b[0m\u001b[1;33m\u001b[0m\u001b[0m\n\u001b[0;32m      5\u001b[0m         \u001b[0mprint\u001b[0m\u001b[1;33m(\u001b[0m\u001b[0ma\u001b[0m\u001b[1;33m)\u001b[0m\u001b[1;33m\u001b[0m\u001b[1;33m\u001b[0m\u001b[0m\n",
      "\u001b[1;31mNameError\u001b[0m: name 's' is not defined"
     ]
    }
   ],
   "source": [
    "s=False\n",
    "while s == False:\n",
    "    a+=1\n",
    "\n",
    "    if a%23==0:\n",
    "        print(a)\n",
    "        a=True\n",
    "    else: \n",
    "        continue"
   ]
  },
  {
   "cell_type": "code",
   "execution_count": null,
   "metadata": {},
   "outputs": [],
   "source": []
  },
  {
   "cell_type": "code",
   "execution_count": null,
   "metadata": {},
   "outputs": [],
   "source": []
  },
  {
   "cell_type": "code",
   "execution_count": null,
   "metadata": {},
   "outputs": [],
   "source": []
  },
  {
   "cell_type": "code",
   "execution_count": null,
   "metadata": {},
   "outputs": [],
   "source": []
  }
 ],
 "metadata": {
  "kernelspec": {
   "display_name": "Python 3",
   "language": "python",
   "name": "python3"
  },
  "language_info": {
   "codemirror_mode": {
    "name": "ipython",
    "version": 3
   },
   "file_extension": ".py",
   "mimetype": "text/x-python",
   "name": "python",
   "nbconvert_exporter": "python",
   "pygments_lexer": "ipython3",
   "version": "3.7.6"
  }
 },
 "nbformat": 4,
 "nbformat_minor": 4
}
