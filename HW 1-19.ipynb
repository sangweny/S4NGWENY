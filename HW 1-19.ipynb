{
 "cells": [
  {
   "cell_type": "markdown",
   "metadata": {},
   "source": [
    "# 1번\n",
    "시급을 담은 변수 ```wage```, 그리고 환율을 담은 변수 ```exchange_rate```을 사용해서 아래를 구하는/만족하는 코드를 작성하세요.\n",
    "1. ```time``` 이라는 변수로 유저 입력을 숫자형으로 받아\n",
    "2. ```\"(시간)동안 (금액) 달러를 벌었습니다.\"``` 와 ```\"(시간)동안 (금액) 원를 벌었습니다.\"``` 출력"
   ]
  },
  {
   "cell_type": "code",
   "execution_count": null,
   "metadata": {},
   "outputs": [],
   "source": [
    "# Don't Touch!\n",
    "wage = 5                  # 시급 (1시간에 5달러)\n",
    "exchange_rate = 1142.16   # 환율 (1달러에 1142.16원)"
   ]
  },
  {
   "cell_type": "code",
   "execution_count": null,
   "metadata": {},
   "outputs": [],
   "source": [
    "# 여기서 부터 코드 작성:\n"
   ]
  },
  {
   "cell_type": "markdown",
   "metadata": {},
   "source": [
    "# 2번\n",
    "아래를 만족하는 가위바위보 게임을 작성하세요.\n",
    "1. ```player1``` 과 ```player2```의 각각 입력을 한글 (예. 가위) 로 받은 뒤\n",
    "2. ```\"비겼습니다\"```, ```\"player1이 이겼습니다\"```, ```\"player2가 이겼습니다\"``` 출력\n",
    "3. 만약 입력이 잘못 되었을 경우 (예. 오타), ```\"다시 입력해주세요\"``` 출력"
   ]
  },
  {
   "cell_type": "code",
   "execution_count": null,
   "metadata": {},
   "outputs": [],
   "source": [
    "player1 = \n",
    "player2 = "
   ]
  },
  {
   "cell_type": "markdown",
   "metadata": {},
   "source": [
    "# 3번\n",
    "```while```문을 사용하여 ```1``` 이상 ```100``` 이하의 짝수를 모두 출력하세요."
   ]
  },
  {
   "cell_type": "code",
   "execution_count": null,
   "metadata": {},
   "outputs": [],
   "source": []
  },
  {
   "cell_type": "markdown",
   "metadata": {},
   "source": [
    "# 4번\n",
    "```while```문을 사용하여 ```100``` 이상의 자연수 중 가장 작은 ```23```의 배수를 출력해보세요."
   ]
  },
  {
   "cell_type": "code",
   "execution_count": null,
   "metadata": {},
   "outputs": [],
   "source": []
  },
  {
   "cell_type": "markdown",
   "metadata": {},
   "source": [
    "# 5번\n",
    "성적표를 기다리는 학생들을 위해서 학점 계산기를 만들려고 합니다. 아래를 만족하는 프로그램을 작성하세요.\n",
    "\n",
    "1. ```raw_grade```라는 변수에 숫자형의 입력을 받아\n",
    "2. 절대 평가 방식으로 총 점수가 ```90```점 이상이면 ```A```를, ```80```점 이상 ```90```점 미만이면 ```B```를, ```70```점 이상 ```80```점 미만이면 ```C```를, ```60```점 이상 ```70```점 미만이면 ```D```를, ```60```점 미만이면 ```F```를 ```final_grade```라는 변수에 부과해줍니다.\n",
    "3. 성적이 ```A```일 경우 ```\"You get an A.\"```를, ```B```일 경우 ```\"You get a B.\"```를, ```C```일 경우 ```\"You get a C.\"```를, ```D```일 경우 ```\"You get a D.\"```를, ```F```일 경우 ```\"You get an F.\"```을 출력하는 프로그램을 작성하세요."
   ]
  },
  {
   "cell_type": "code",
   "execution_count": null,
   "metadata": {},
   "outputs": [],
   "source": [
    "raw_grade = "
   ]
  },
  {
   "cell_type": "markdown",
   "metadata": {},
   "source": [
    "# 6번\n",
    "```while```문과 ```if```문을 활용하여 ```100```이하의 자연수 중 ```8```의 배수이지만, ```12```의 배수는 아닌 것을 모두 출력하세요. 실행하면 아래의 내용이 콘솔에 출력되어야 합니다."
   ]
  },
  {
   "cell_type": "code",
   "execution_count": null,
   "metadata": {},
   "outputs": [],
   "source": []
  },
  {
   "cell_type": "markdown",
   "metadata": {},
   "source": [
    "# 7번\n",
    "```10```보다 작은 ```2``` 또는 ```3```의 배수는 ```2```, ```3```, ```4```, ```6```, ```8```, ```9```이며, 이들의 합은 ```32```입니다.\n",
    "\n",
    "```while```문과 ```if```문을 활용하여, ```1000```보다 작은 자연수 중 ```2``` 또는 ```3```의 배수의 합을 출력하는 프로그램을 써보세요."
   ]
  },
  {
   "cell_type": "code",
   "execution_count": 3,
   "metadata": {},
   "outputs": [
    {
     "name": "stdout",
     "output_type": "stream",
     "text": [
      "334167\n"
     ]
    }
   ],
   "source": [
    "a = 1\n",
    "total=0\n",
    "while a < 1001:\n",
    "    a+=1\n",
    "    if a%2==0 or a%3==0:\n",
    "        total+=a\n",
    "\n",
    "print(total)"
   ]
  },
  {
   "cell_type": "markdown",
   "metadata": {},
   "source": [
    "# 8번\n",
    "```1988```년 쌍문동에 사는 택이는 바둑대회 우승 상금으로 ```5000```만원을 받았습니다. 하지만 바둑 외에는 아는게 없으니, 이웃 어른들에게 이 돈으로 무엇을 해야할지 물어보기로 하였습니다.\n",
    "\n",
    "은행에서 근무하는 동일 아저씨는, 은행에 돈을 맡겨서 매년 이자로 ```12%```씩 받는 것을 추천하셨습니다. ```1```년 후인 ```1989```년에는, ```5000```만원의 ```12%``` 이자인 ```600```만원이 더해져 ```5600```만원이 된다고 하면서요.\n",
    "\n",
    "이 이야기를 들은 미란 아주머니는 고작 ```12%```때문에 생돈을 은행에 넣어 놓느냐며, 얼마 전 지어진 매매가 ```5000```만원짜리 은마아파트를 살 것을 추천하셨습니다.\n",
    "\n",
    "```2020```년 현재 은마아파트의 매매가는 ```21```억원입니다. ```while```문과 ```if```문을 사용해 ```1988```년 은행에 ```5000```만원을 넣었을 경우 ```2020```년에 얼마나 있을지 계산하여, 동일 아저씨나 미란 아주머니 중 누구의 말을 듣는 것이 좋을지 판단해보세요.\n",
    "\n",
    "```2016```년에 은행에 저축해 둔 금액이 더 크다면, ```\"*원 차이로 동일 아저씨의 말씀이 맞습니다.\"```가 출력되게 하세요. 하지만 은마 아파트의 가격이 더 크다면, ```\"*원 차이로 미란 아주머니의 말씀이 맞습니다.\"```가 출력되게 하세요.\n",
    "\n",
    "(단 이자율은 매년 ```12%```로 같다고 가정합니다.)"
   ]
  },
  {
   "cell_type": "code",
   "execution_count": 1,
   "metadata": {},
   "outputs": [
    {
     "name": "stdout",
     "output_type": "stream",
     "text": [
      "22091.368457645207만원 차이로 미란 아주머니의 말씀이 맞습니다.\n"
     ]
    }
   ],
   "source": [
    "bank=5000\n",
    "eunma_i=5000\n",
    "year=1988\n",
    "\n",
    "while year < 2021:\n",
    "    year+=1\n",
    "    bank*=1.12\n",
    "    \n",
    "    if year==2020:\n",
    "        if bank>210000:\n",
    "            print(f\"{bank-210000}만원 차이로 동일 아저씨의 말씀이 맞습니다.\")\n",
    "            \n",
    "        print(f\"{210000-bank}만원 차이로 미란 아주머니의 말씀이 맞습니다.\")\n"
   ]
  },
  {
   "cell_type": "markdown",
   "metadata": {},
   "source": [
    "# 9번\n",
    "피보나치 수열이란 첫 번째 항과 두 번째 항이 ```1```이고, 세 번째 항부터는 바로 앞의 두 항의 합으로 정의된 수열입니다.\n",
    "\n",
    "예를 들어서 세 번째 항은 첫 번째 항(1)과 두 번째 항(1)을 더한 ```2```이며, 네 번째 항은 두 번째 항(1)과 세 번째 항(2)을 더한 3이 될 것입니다.\n",
    "\n",
    "이러한 방식으로 피보나치 수열의 첫 ```10```개 항은 ```1```, ```1```, ```2```, ```3```, ```5```, ```8```, ```13```, ```21```, ```34```, ```55```입니다.\n",
    "\n",
    "피보나치 수열의 첫 ```20```개 항을 차례대로 출력하는 프로그램을 작성하세요."
   ]
  },
  {
   "cell_type": "code",
   "execution_count": 11,
   "metadata": {},
   "outputs": [
    {
     "name": "stdout",
     "output_type": "stream",
     "text": [
      "1\n",
      "1\n",
      "2\n",
      "3\n",
      "5\n",
      "8\n",
      "13\n",
      "21\n",
      "34\n",
      "55\n",
      "89\n",
      "144\n",
      "233\n",
      "377\n",
      "610\n",
      "987\n",
      "1597\n",
      "2584\n",
      "4181\n",
      "6765\n"
     ]
    }
   ],
   "source": [
    "a=1\n",
    "b=1\n",
    "for i in range (0,10):\n",
    "    print(a)\n",
    "    print(b)\n",
    "    a+=b\n",
    "    b+=a"
   ]
  },
  {
   "cell_type": "markdown",
   "metadata": {},
   "source": [
    "# 10번\n",
    "구구단 (1단~9단)을 출력하는 프로그램을 작성해보세요. \n",
    "\n",
    "*팁: while반복문의 수행 부분 안에 또 다른 while 문을 사용하셔야 완전한 구구단을 만들 수 있습니다.*"
   ]
  },
  {
   "cell_type": "code",
   "execution_count": 6,
   "metadata": {},
   "outputs": [
    {
     "name": "stdout",
     "output_type": "stream",
     "text": [
      "1곱하기 1는 1입니다.\n",
      "1곱하기 2는 2입니다.\n",
      "1곱하기 3는 3입니다.\n",
      "1곱하기 4는 4입니다.\n",
      "1곱하기 5는 5입니다.\n",
      "1곱하기 6는 6입니다.\n",
      "1곱하기 7는 7입니다.\n",
      "1곱하기 8는 8입니다.\n",
      "1곱하기 9는 9입니다.\n",
      "2곱하기 1는 2입니다.\n",
      "2곱하기 2는 4입니다.\n",
      "2곱하기 3는 6입니다.\n",
      "2곱하기 4는 8입니다.\n",
      "2곱하기 5는 10입니다.\n",
      "2곱하기 6는 12입니다.\n",
      "2곱하기 7는 14입니다.\n",
      "2곱하기 8는 16입니다.\n",
      "2곱하기 9는 18입니다.\n",
      "3곱하기 1는 3입니다.\n",
      "3곱하기 2는 6입니다.\n",
      "3곱하기 3는 9입니다.\n",
      "3곱하기 4는 12입니다.\n",
      "3곱하기 5는 15입니다.\n",
      "3곱하기 6는 18입니다.\n",
      "3곱하기 7는 21입니다.\n",
      "3곱하기 8는 24입니다.\n",
      "3곱하기 9는 27입니다.\n",
      "4곱하기 1는 4입니다.\n",
      "4곱하기 2는 8입니다.\n",
      "4곱하기 3는 12입니다.\n",
      "4곱하기 4는 16입니다.\n",
      "4곱하기 5는 20입니다.\n",
      "4곱하기 6는 24입니다.\n",
      "4곱하기 7는 28입니다.\n",
      "4곱하기 8는 32입니다.\n",
      "4곱하기 9는 36입니다.\n",
      "5곱하기 1는 5입니다.\n",
      "5곱하기 2는 10입니다.\n",
      "5곱하기 3는 15입니다.\n",
      "5곱하기 4는 20입니다.\n",
      "5곱하기 5는 25입니다.\n",
      "5곱하기 6는 30입니다.\n",
      "5곱하기 7는 35입니다.\n",
      "5곱하기 8는 40입니다.\n",
      "5곱하기 9는 45입니다.\n",
      "6곱하기 1는 6입니다.\n",
      "6곱하기 2는 12입니다.\n",
      "6곱하기 3는 18입니다.\n",
      "6곱하기 4는 24입니다.\n",
      "6곱하기 5는 30입니다.\n",
      "6곱하기 6는 36입니다.\n",
      "6곱하기 7는 42입니다.\n",
      "6곱하기 8는 48입니다.\n",
      "6곱하기 9는 54입니다.\n",
      "7곱하기 1는 7입니다.\n",
      "7곱하기 2는 14입니다.\n",
      "7곱하기 3는 21입니다.\n",
      "7곱하기 4는 28입니다.\n",
      "7곱하기 5는 35입니다.\n",
      "7곱하기 6는 42입니다.\n",
      "7곱하기 7는 49입니다.\n",
      "7곱하기 8는 56입니다.\n",
      "7곱하기 9는 63입니다.\n",
      "8곱하기 1는 8입니다.\n",
      "8곱하기 2는 16입니다.\n",
      "8곱하기 3는 24입니다.\n",
      "8곱하기 4는 32입니다.\n",
      "8곱하기 5는 40입니다.\n",
      "8곱하기 6는 48입니다.\n",
      "8곱하기 7는 56입니다.\n",
      "8곱하기 8는 64입니다.\n",
      "8곱하기 9는 72입니다.\n",
      "9곱하기 1는 9입니다.\n",
      "9곱하기 2는 18입니다.\n",
      "9곱하기 3는 27입니다.\n",
      "9곱하기 4는 36입니다.\n",
      "9곱하기 5는 45입니다.\n",
      "9곱하기 6는 54입니다.\n",
      "9곱하기 7는 63입니다.\n",
      "9곱하기 8는 72입니다.\n",
      "9곱하기 9는 81입니다.\n"
     ]
    }
   ],
   "source": [
    "a=1\n",
    "b=1\n",
    "while a<10:\n",
    "    while b<10:\n",
    "        \n",
    "        c=a*b\n",
    "        print(f\"{a}곱하기 {b}는 {c}입니다.\")\n",
    "        b+=1\n",
    "    a+=1\n",
    "    b=1"
   ]
  },
  {
   "cell_type": "markdown",
   "metadata": {},
   "source": [
    "# 11번\n",
    "아래를 만족하는 숫자 맞추기 게임 프로그램을 작성하세요.\n",
    "\n",
    "```1```과 ```20``` 사이의 숫자를 맞추는 게임을 만드려고 합니다. 앞서 배운 [randint](https://www.geeksforgeeks.org/python-randint-function/) 함수와, input 함수의 개념을 활용하여 직접 프로그램을 만들어보세요.\n",
    "\n",
    "**진행 방식**\n",
    "\n",
    "1. 프로그램을 실행하면 ```\"기회가 *번 남았습니다. 1-20 사이의 숫자를 맞춰보세요: \"```가 출력됩니다. 총 ```4```번의 기회가 주어지며, 사용자가 한 번 추측할 때마다 남은 기회 횟수가 줄어듭니다.\n",
    "2. 정답을 맞추면, ```\"축하합니다. *번만에 숫자를 맞추셨습니다.\"```가 출력되고 프로그램은 종료됩니다.\n",
    "3. 사용자가 입력한 수가 정답보다 작을 경우 ```\"Up\"```이 출력되고, 입력한 수가 정답보다 클 경우 ```\"Down\"```이 출력됩니다.\n",
    "4. 정답이 틀렸으면 (1)번부터 다시 진행합니다. 만약 4번의 기회를 모두 사용했는데도 답을 맞추지 못했으면, ```\"아쉽습니다. 정답은 *였습니다.\"```가 출력되고 프로그램은 종료됩니다."
   ]
  },
  {
   "cell_type": "code",
   "execution_count": 8,
   "metadata": {},
   "outputs": [
    {
     "name": "stdout",
     "output_type": "stream",
     "text": [
      "기회가 4번 남았습니다. 1-20 사이의 숫자를 맞춰보세요: 5\n",
      "up\n",
      "기회가 3번 남았습니다. 1-20 사이의 숫자를 맞춰보세요: 10\n",
      "up\n",
      "기회가 2번 남았습니다. 1-20 사이의 숫자를 맞춰보세요: 19\n",
      "down\n",
      "기회가 1번 남았습니다. 1-20 사이의 숫자를 맞춰보세요: 13\n",
      "up\n",
      "아쉽습니다. 정답은 14였습니다.\n"
     ]
    }
   ],
   "source": [
    "from random import randint\n",
    "\n",
    "jeongdap=randint(1,20)\n",
    "life=4\n",
    "\n",
    "while life>0:\n",
    "    answer=int(input(f'기회가 {life}번 남았습니다. 1-20 사이의 숫자를 맞춰보세요: '))\n",
    "    if answer==jeongdap:\n",
    "        print(f'축하합니다 {5-life}번만에 숫자를 맞추셨습니다')\n",
    "    \n",
    "    life-=1 \n",
    "    if answer > jeongdap:\n",
    "        print('down')\n",
    "    else:\n",
    "        print('up')\n",
    "            \n",
    "            \n",
    "if life==0:\n",
    "    print(f'아쉽습니다. 정답은 {jeongdap}였습니다.')"
   ]
  },
  {
   "cell_type": "markdown",
   "metadata": {},
   "source": [
    "# 12번\n",
    "화씨 온도(°F)를 섭씨 온도(°C)로 바꾸어주는 프로그램을 만들려고 합니다.\n",
    "\n",
    "섭씨와 화씨의 관계식은 다음과 같습니다: ```°C = (°F - 32) x 5 / 9```\n",
    "\n",
    "아래의 코드에 이어서 정수형 fahrenheit을 파라미터로 받는 ```fahrenheit_to_celsius ```함수를 써보세요. ```fahrenheit_to_celsius```는 화씨 온도 ```fahrenheit```를 섭씨 온도로 바꿔서 리턴합니다.\n",
    "\n",
    "**<주의>** 반드시 while문을 활용해주세요.  \n",
    "\n",
    "**<주의>** 새로운 리스트를 만들거나, append 메소드를 사용하지 마세요. \n",
    "\n",
    "**<주의>** 섭씨 온도 리스트의 원소가 정수형이든지, 소수점 첫째짜리까지든지, 원래 소수값이든지 상관없습니다.  "
   ]
  },
  {
   "cell_type": "code",
   "execution_count": null,
   "metadata": {},
   "outputs": [],
   "source": [
    "# 화씨 온도에서 섭씨 온도로 바꿔주는 함수\n",
    "def fahrenheit_to_celsius(fahrenheit):\n",
    "    # 코드를 입력하세요.\n",
    "\n",
    "# 테스트용 온도 리스트\n",
    "sample_temperature_list = [40, 15, 32, 64, -4, 11]\n",
    "\n",
    "# 화씨 온도 출력\n",
    "print(\"화씨 온도 리스트: \" + str(sample_temperature_list))\n",
    "\n",
    "# 리스트의 값들을 화씨에서 섭씨로 변환\n",
    "# 코드를 입력하세요.\n",
    "\n",
    "# 섭씨 온도 출력\n",
    "print(\"섭씨 온도 리스트: \" + str(sample_temperature_list))"
   ]
  },
  {
   "cell_type": "code",
   "execution_count": 9,
   "metadata": {},
   "outputs": [
    {
     "name": "stdout",
     "output_type": "stream",
     "text": [
      "화씨 온도 리스트: [40, 15, 32, 64, -4, 11]\n",
      "섭씨 온도 리스트: [4.444444444444445, -9.444444444444445, 0.0, 17.77777777777778, -20.0, -11.666666666666666]\n"
     ]
    }
   ],
   "source": [
    "def fahrenheit_to_celsius(fahrenheit):\n",
    "    celsius=(fahrenheit-32)*5/9\n",
    "    return celsius\n",
    "\n",
    "sample_temperature_list = [40, 15, 32, 64, -4, 11]\n",
    "\n",
    "print(\"화씨 온도 리스트: \" + str(sample_temperature_list))\n",
    "\n",
    "i=-1\n",
    "while i < 5:\n",
    "    i+=1\n",
    "    sample_temperature_list[i]=fahrenheit_to_celsius(sample_temperature_list[i])\n",
    "    continue\n",
    "\n",
    "print(\"섭씨 온도 리스트: \" + str(sample_temperature_list))"
   ]
  },
  {
   "cell_type": "markdown",
   "metadata": {},
   "source": [
    "# 13번\n",
    "환율에 따라 화폐를 교환해주는 서비스를 운영하고 있습니다. 신속한 환전을 위하여 원(￦) 단위로 정리되어 있는 리스트를 달러($)와 엔(￥)으로 변환해주는 프로그램을 써야합니다.\n",
    "\n",
    "현재 환율은 ```1```달러 당 ```1000```원, ```1000```엔 당 ```8```달러입니다. 이 정보를 이용해서 파라미터 ```won```으로 한국 금액을 받고 미국 금액을 리턴해주는 ```krw_to_usd``` 함수와, 파라미터 ```dollars```로 미국 금액을 받고 일본 금액을 리턴해주는 ```usd_to_jpy``` 함수를 쓰세요. 그리고 이 함수들을 활용해서 아래에 원(￦)으로 정리된 amounts리스트를 달러($) 리스트와 엔(￥) 리스트로 변환 시켜보세요.\n",
    "\n",
    "**<주의>** 반드시 while문을 활용해주세요.   \n",
    "\n",
    "**<주의>** 미국 화폐/일본 화폐 리스트의 원소가 정수형이든지, 소수점 첫째짜리까지든지, 원래 소수값이든지 상관없습니다.  "
   ]
  },
  {
   "cell_type": "code",
   "execution_count": null,
   "metadata": {},
   "outputs": [],
   "source": [
    "# 원(￦)에서 달러($)로 바꿔주는 함수\n",
    "def krw_to_usd(won):\n",
    "    # 코드를 입력하세요.\n",
    "\n",
    "# 달러($)에서 엔(￥)로 바꿔주는 함수\n",
    "def usd_to_jpy(dollars):\n",
    "    # 코드를 입력하세요.\n",
    "\n",
    "# 원(￦)으로 각각 얼마인가요?\n",
    "amounts = [1000, 2000, 3000, 5000, 8000, 13000, 21000, 34000]\n",
    "print(\"한국 화폐: \" + str(amounts))\n",
    " \n",
    "# amounts를 원(￦)에서 달러($)로 바꿔주기\n",
    "# 코드를 입력하세요.\n",
    "\n",
    "# 달러($)로 각각 얼마인가요?\n",
    "print(\"미국 화폐: \" + str(amounts))\n",
    "\n",
    "# amounts를 달러($)에서 엔(￥)으로 바꿔주기\n",
    "# 코드를 입력하세요.\n",
    "\n",
    "# 엔(￥)으로 각각 얼마인가요?\n",
    "print(\"일본 화폐: \" + str(amounts))"
   ]
  },
  {
   "cell_type": "code",
   "execution_count": 1,
   "metadata": {
    "collapsed": true
   },
   "outputs": [
    {
     "name": "stdout",
     "output_type": "stream",
     "text": [
      "한국 화폐: [1000, 2000, 3000, 5000, 8000, 13000, 21000, 34000]\n",
      "미국 화폐: [1.0, 0.5, 0.3333333333333333, 0.2, 0.125, 0.07692307692307693, 0.047619047619047616, 0.029411764705882353]\n",
      "일본 화폐: [125.0, 250.0, 375.0, 625.0, 1000.0, 1625.0, 2625.0, 4250.0]\n"
     ]
    }
   ],
   "source": [
    "def krw_to_usd(won):\n",
    "    return won/1000\n",
    "\n",
    "def usd_to_jpy(dollars):\n",
    "    return 125/\n",
    "\n",
    "# 원(￦)으로 각각 얼마인가요?\n",
    "amounts = [1000, 2000, 3000, 5000, 8000, 13000, 21000, 34000]\n",
    "print(\"한국 화폐: \" + str(amounts))\n",
    "\n",
    "i=-1\n",
    "while i < 7:\n",
    "    i+=1\n",
    "    amounts[i]=krw_to_usd(amounts[i])\n",
    "\n",
    "print(\"미국 화폐: \" + str(amounts))\n",
    "\n",
    "j=-1\n",
    "while j < 7:\n",
    "    j+=1\n",
    "    amounts[j]=usd_to_jpy(amounts[j])\n",
    "\n",
    "print(\"일본 화폐: \" + str(amounts))"
   ]
  },
  {
   "cell_type": "markdown",
   "metadata": {},
   "source": [
    "# 14번\n",
    "리스트 함수를 활용하여 아래의 지시사항을 따르세요.\n",
    "\n",
    "1. ```numbers```라는 빈 리스트를 만들어준다.\n",
    "2. ```append```를 이용해서 ```numbers```에 자연수 ```1```부터 ```10```까지의 값들을 추가한다. 즉 ```[1, 2, 3, 4, 5, 6, 7, 8, 9, 10]```이 되게 만든다. 그 후 리스트를 출력한다.\n",
    "3. ```numbers``` 리스트의 원소들 중에 홀수는 모두 제거한다. 그 후 다시 리스트를 출력한다.\n",
    "4. ```numbers``` 리스트의 인덱스 ```0``` 자리에 ```20```이라는 수를 삽입한 후 출력한다.\n",
    "5. 정렬이 되어있지 않으므로, ```numbers```라는 리스트를 정렬한 후 출력한다.\n",
    "\n",
    "(문제의 조건을 정확히 따라주시기 바랍니다. 각각의 명령에 필요한 ```append```, ```del```, ```insert```, ```sort``` 함수/메소드는 딱 한 번씩만 써야 합니다.) \n",
    "\n",
    "**<주의>** numbers에서 홀수를 제거하는 부분에 유의해야 합니다. ```numbers = [1, 2, 3, 4, 5, 6, 7, 8, 9, 10]```인 경우뿐만 아니라, ```numbers = [1, 3, 4, 6]``` 혹은 ```numbers = [1, 5, 7, 11]``` 등 모든 경우에서, 홀수만 적절히 제거되어야 합니다.  "
   ]
  },
  {
   "cell_type": "code",
   "execution_count": 3,
   "metadata": {},
   "outputs": [
    {
     "name": "stdout",
     "output_type": "stream",
     "text": [
      "[1, 2, 3, 4, 5, 6, 7, 8, 9, 10]\n",
      "[2, 4, 6, 8, 10]\n",
      "[20, 2, 4, 6, 8, 10]\n",
      "[2, 4, 6, 8, 10, 20]\n"
     ]
    }
   ],
   "source": [
    "# 빈 리스트 만들기\n",
    "numbers = []\n",
    "\n",
    "# numbers에 자연수 1부터 10까지 추가\n",
    "# 코드를 입력하세요\n",
    "for i in range (1,11):\n",
    "    numbers.append(i)\n",
    "\n",
    "print(numbers)\n",
    "\n",
    "for j in numbers:\n",
    "    if j%2!=0:\n",
    "        numbers.remove(j)\n",
    "print(numbers)\n",
    "\n",
    "numbers.insert(0,20)\n",
    "print(numbers)\n",
    "\n",
    "numbers.sort()\n",
    "print(numbers)"
   ]
  },
  {
   "cell_type": "code",
   "execution_count": null,
   "metadata": {},
   "outputs": [],
   "source": [
    "# 실행했을 때 아래처럼 출력되어야 합니다.\n",
    "# [1, 2, 3, 4, 5, 6, 7, 8, 9, 10]\n",
    "# [2, 4, 6, 8, 10]\n",
    "# [20, 2, 4, 6, 8, 10]\n",
    "# [2, 4, 6, 8, 10, 20]"
   ]
  },
  {
   "cell_type": "markdown",
   "metadata": {},
   "source": [
    "# 15번\n",
    "숫자 맞추기 게임에 이어, 숫자 야구 게임을 만들려고 합니다. 룰은 다음과 같습니다.\n",
    "\n",
    "1. 컴퓨터는 ```0```과 ```9``` 사이의 서로 다른 세 숫자를 임의의 순서로 뽑습니다. 사용자는 컴퓨터가 뽑은 숫자의 값과 위치를 맞추려고 합니다.\n",
    "2. 컴퓨터는 사용자가 입력한 세 숫자에 대해서, 아래의 규칙대로 스트라이크(S)와 볼(B)의 개수를 알려줍니다.\n",
    "    1. 숫자의 값과 위치가 모두 일치하면 S입니다.\n",
    "    2. 숫자의 값은 일치하지만 위치가 틀렸으면 B입니다.\n",
    "    3. 예를 들어 컴퓨터가 1, 2, 3을 생성하였는데, 사용자가 1, 3, 5를 입력하면, 1S(1의 값과 위치가 일치) 1B(3의 값만 일치)입니다.\n",
    "3. 기회는 무제한입니다. 하지만 몇번의 시도 끝에 맞췄는지 기록됩니다.\n",
    "4. ```3S```(세 숫자의 값과 위치를 모두 맞춘 경우)일 때 게임이 끝납니다.\n",
    "\n",
    "**진행 방식**\n",
    "\n",
    "1. ```\"0과 9 사이의 서로 다른 세 숫자를 랜덤한 순서로 뽑았습니다.\"```가 출력됩니다.\n",
    "2. ```\"세 수를 하나씩 차례대로 입력하세요.\"```가 출력됩니다.\n",
    "3. ```\"1번째 수를 입력하세요: \"```가 출력되고, 사용자로부터 입력을 받습니다. 마찬가지로 ```\"2번째 수를 입력하세요: \"```, ```\"3번째 수를 입력하세요: \"```가 출력되고, 사용자로부터 각각 입력을 받습니다. 만약 사용자가 중복되는 수를 입력하거나 범위에 벗어나는 수를 입력할 경우, 사용자로부터 입력을 다시 받습니다.\n",
    "4. 사용자가 올바르게 서로 다른 세 수를 입력한 경우, 규칙에 따라 ```\"*S *B\"```가 출력됩니다. 만약 ```3S```가 아닌 경우 (2)번줄부터 다시 진행됩니다.\n",
    "5. 사용자가 ```3S```를 달성했을 때, ```\"축하합니다. *번 만에 세 숫자의 값과 위치를 모두 맞추셨습니다.\"```가 출력됩니다."
   ]
  },
  {
   "cell_type": "code",
   "execution_count": 8,
   "metadata": {},
   "outputs": [
    {
     "name": "stdout",
     "output_type": "stream",
     "text": [
      "1 5 7\n",
      "숫자 뽑기 성공\n",
      "첫번째 숫자는?1\n",
      "두번째 숫자는?5\n",
      "세번째 숫자는?7\n",
      "3스트라이크 0볼\n",
      "축하합니다 너는 1번만에 맞췄네요^^.\n"
     ]
    }
   ],
   "source": [
    "import random\n",
    "switch=False\n",
    "while switch==False:\n",
    "    a=random.randint(0,9)\n",
    "    b=random.randint(0,9)\n",
    "    c=random.randint(0,9)\n",
    "    if a!=b and b!=c and c!=a:  \n",
    "        print(a,b,c)\n",
    "        print('숫자 뽑기 성공')\n",
    "        switch=True\n",
    "       \n",
    "Al=True\n",
    "Bl=True\n",
    "Cl=True\n",
    "\n",
    "while Al == True:\n",
    "    A=int(input('첫번째 숫자는?'))    \n",
    "    Al = A<0 or A>9\n",
    "    if Al==True:\n",
    "        print('다시')\n",
    "        \n",
    "while Bl == True:\n",
    "    B=int(input('두번째 숫자는?'))\n",
    "    Bl = B<0 or B>9 or B==A\n",
    "    if Bl==True:\n",
    "        print('다시')\n",
    "        \n",
    "while Cl == True:\n",
    "    C=int(input('세번째 숫자는?'))\n",
    "    Cl = C<0 or C>9 or C==A or C==B\n",
    "    if Cl==True: \n",
    "        print('다시')\n",
    "\n",
    "correct_answer=[a,b,c]\n",
    "my_answer=[A,B,C]\n",
    "\n",
    "\n",
    "trial=0\n",
    "yeah=False\n",
    "\n",
    "while yeah == False:\n",
    "    trial+=1\n",
    "    \n",
    "    count_strike=0\n",
    "    for j in range (0,3):\n",
    "        if correct_answer[j]==my_answer[j]:\n",
    "            count_strike+=1\n",
    "            \n",
    "    count_ball=0\n",
    "    for i in correct_answer:\n",
    "        if i in my_answer:\n",
    "            count_ball+=1\n",
    "\n",
    "    count_ball_1=(count_ball-count_strike)\n",
    "\n",
    "    print(f'{count_strike}스트라이크 {count_ball_1}볼')\n",
    "\n",
    "    if count_strike==3:\n",
    "        print(f'축하합니다 너는 {trial}번만에 맞췄네요^^.')\n",
    "        yeah=True\n",
    "        "
   ]
  },
  {
   "cell_type": "markdown",
   "metadata": {},
   "source": [
    "# 16번\n",
    "```numbers```라는 리스트가 주어졌습니다. ```for```문과 ```range``` 함수를 사용하여 ```numbers```의 인덱스와 원소를 출력해보세요."
   ]
  },
  {
   "cell_type": "code",
   "execution_count": null,
   "metadata": {},
   "outputs": [],
   "source": [
    "# 예시는 아래와 같습니다.\n",
    "# 0 2\n",
    "# 1 3\n",
    "# 2 5\n",
    "# 3 7\n",
    "# 4 11\n",
    "# 5 13\n",
    "# 6 17\n",
    "# 7 19"
   ]
  },
  {
   "cell_type": "code",
   "execution_count": 8,
   "metadata": {},
   "outputs": [
    {
     "name": "stdout",
     "output_type": "stream",
     "text": [
      "0 2\n",
      "1 3\n",
      "2 5\n",
      "3 7\n",
      "4 11\n",
      "5 13\n",
      "6 17\n",
      "7 19\n"
     ]
    }
   ],
   "source": [
    "# Don't Touch!\n",
    "numbers = [2, 3, 5, 7, 11, 13, 17, 19]\n",
    "\n",
    "# 여기서부터 코드 작성:\n",
    "\n",
    "l=len(numbers)\n",
    "\n",
    "for i in range(0,l):\n",
    "    num=numbers[i]\n",
    "    print(i,num)\n",
    "    "
   ]
  },
  {
   "cell_type": "markdown",
   "metadata": {},
   "source": [
    "# 17번\n",
    "리스트에 있는 데이터의 순서를 거꾸로 뒤집는 방법을 생각해내려고 합니다."
   ]
  },
  {
   "cell_type": "code",
   "execution_count": null,
   "metadata": {},
   "outputs": [],
   "source": [
    "# Don't Touch!\n",
    "numbers = [2, 4, 6, 8, 10, 12, 14]\n",
    "\n",
    "# 여기서부터 코드 입력:\n",
    "\n",
    "for i in numbers:\n",
    "    numbers.replace(i,6-i)\n",
    "    \n",
    "\n",
    "print(\"뒤집어진 리스트: \" + str(numbers))"
   ]
  },
  {
   "cell_type": "markdown",
   "metadata": {},
   "source": [
    "위와 같이 ```numbers```라는 리스트가 주어졌을 때, ```for```문을 사용하여 리스트를 거꾸로 뒤집어 아래의 내용이 출력되게 하세요.\n",
    "\n",
    "**<주의>** 새로운 리스트를 만들면 안 됩니다. numbers 리스트 하나만 사용하세요.   "
   ]
  },
  {
   "cell_type": "code",
   "execution_count": null,
   "metadata": {},
   "outputs": [],
   "source": [
    "numbers\n"
   ]
  },
  {
   "cell_type": "markdown",
   "metadata": {},
   "source": [
    "# 18번\n",
    "주민등록번호 ```YYMMDD-abcdefg```는 총 ```13```자리로, 앞의 ```6```자리```(YYMMDD)```는 생년월일을 의미합니다.\n",
    "\n",
    "뒤의 ```7```자리 ```abcdefg``` 중 맨 앞자리 ```a```는 성별을 의미하고, 두번째와 세번째 자리 ```bc```는 출생등록지에 해당하는 지방자치단체의 고유번호입니다. 즉 여러분이 언제, 어디서 태어났는지와 성별만 안다면, 마지막 ```4```개의 숫자 ```defg```를 제외한 앞의 ```9```개 숫자는 쉽게 알 수 있다는 것입니다.\n",
    "\n",
    "이러한 의미에서, 저희는 주민등록번호의 마지막 ```4```개의 숫자 ```defg```를 가려주는 보안 프로그램을 만들어보려고 합니다. 문자열 ```security_number```를 파라미터로 받고, ```security_number```의 마지막 네 글자를 ```'*'```로 가린 문자열 값을 리턴해주는 함수 ```mask_security_number```를 쓰세요. 주민등록번호 가운데에 구분해주는 ```'-'``` 작대기 기호가 있든 없든, 아래와 같이 마지막 네 글자가 ```'*'```로 가려져야 합니다."
   ]
  },
  {
   "cell_type": "code",
   "execution_count": null,
   "metadata": {},
   "outputs": [],
   "source": [
    "def mask_security_number(security_number):\n",
    "    # 아래에 코드를 입력하세요.\n",
    "    security_number.replace([-1:-4],\"****\")"
   ]
  },
  {
   "cell_type": "code",
   "execution_count": null,
   "metadata": {},
   "outputs": [],
   "source": [
    "def mask_security_number(security_number):    \n",
    "    tail=security_number[-1:-5]\n",
    "    L=security_number.remove(tail)\n",
    "    L.append(\"****\")\n",
    "    return(L)\n",
    "\n",
    "print(mask_security_number(\"880720-1234567\"))\n",
    "print(mask_security_number(\"8807201234567\"))\n",
    "print(mask_security_number(\"930124-7654321\"))\n",
    "print(mask_security_number(\"9301247654321\"))\n",
    "print(mask_security_number(\"761214-2357111\"))\n",
    "print(mask_security_number(\"7612142357111\"))"
   ]
  },
  {
   "cell_type": "code",
   "execution_count": null,
   "metadata": {},
   "outputs": [],
   "source": [
    "# 프로그램을 작성한 뒤 위 코드를 실행하면 아래와 같이 출력되어야 합니다.\n",
    "# 880720-123****\n",
    "# 880720123****\n",
    "# 930124-765****\n",
    "# 930124765****\n",
    "# 761214-235****\n",
    "# 761214235****"
   ]
  },
  {
   "cell_type": "markdown",
   "metadata": {},
   "source": [
    "# 19번\n",
    "\"토마토\"나 \"기러기\"처럼 거꾸로 읽어도 똑같은 단어를 팔린드롬(palindrome)이라고 부릅니다. 문자열 ```word```가 팔린드롬인지 확인하는 함수 ```is_palindrome```를 쓰세요. ```is_palindrome```은 ```word```가 팔린드롬이면 ```True```를, 팔린드롬이 아니면 ```False```를 리턴합니다."
   ]
  },
  {
   "cell_type": "code",
   "execution_count": 23,
   "metadata": {},
   "outputs": [],
   "source": [
    "def is_palindrome(word):\n",
    "    if word.reversed(word)==word:\n",
    "        b=True\n",
    "    b=False"
   ]
  },
  {
   "cell_type": "code",
   "execution_count": 24,
   "metadata": {},
   "outputs": [
    {
     "ename": "AttributeError",
     "evalue": "'str' object has no attribute 'reverse'",
     "output_type": "error",
     "traceback": [
      "\u001b[1;31m---------------------------------------------------------------------------\u001b[0m",
      "\u001b[1;31mAttributeError\u001b[0m                            Traceback (most recent call last)",
      "\u001b[1;32m<ipython-input-24-37d944a2dab6>\u001b[0m in \u001b[0;36m<module>\u001b[1;34m\u001b[0m\n\u001b[1;32m----> 1\u001b[1;33m \u001b[0mprint\u001b[0m\u001b[1;33m(\u001b[0m\u001b[0mis_palindrome\u001b[0m\u001b[1;33m(\u001b[0m\u001b[1;34m\"racecar\"\u001b[0m\u001b[1;33m)\u001b[0m\u001b[1;33m)\u001b[0m\u001b[1;33m\u001b[0m\u001b[1;33m\u001b[0m\u001b[0m\n\u001b[0m\u001b[0;32m      2\u001b[0m \u001b[0mprint\u001b[0m\u001b[1;33m(\u001b[0m\u001b[0mis_palindrome\u001b[0m\u001b[1;33m(\u001b[0m\u001b[1;34m\"stars\"\u001b[0m\u001b[1;33m)\u001b[0m\u001b[1;33m)\u001b[0m\u001b[1;33m\u001b[0m\u001b[1;33m\u001b[0m\u001b[0m\n\u001b[0;32m      3\u001b[0m \u001b[0mprint\u001b[0m\u001b[1;33m(\u001b[0m\u001b[0mis_palindrome\u001b[0m\u001b[1;33m(\u001b[0m\u001b[1;34m\"토마토\"\u001b[0m\u001b[1;33m)\u001b[0m\u001b[1;33m)\u001b[0m\u001b[1;33m\u001b[0m\u001b[1;33m\u001b[0m\u001b[0m\n\u001b[0;32m      4\u001b[0m \u001b[0mprint\u001b[0m\u001b[1;33m(\u001b[0m\u001b[0mis_palindrome\u001b[0m\u001b[1;33m(\u001b[0m\u001b[1;34m\"kayak\"\u001b[0m\u001b[1;33m)\u001b[0m\u001b[1;33m)\u001b[0m\u001b[1;33m\u001b[0m\u001b[1;33m\u001b[0m\u001b[0m\n\u001b[0;32m      5\u001b[0m \u001b[0mprint\u001b[0m\u001b[1;33m(\u001b[0m\u001b[0mis_palindrome\u001b[0m\u001b[1;33m(\u001b[0m\u001b[1;34m\"hello\"\u001b[0m\u001b[1;33m)\u001b[0m\u001b[1;33m)\u001b[0m\u001b[1;33m\u001b[0m\u001b[1;33m\u001b[0m\u001b[0m\n",
      "\u001b[1;32m<ipython-input-23-6d110c02c6a2>\u001b[0m in \u001b[0;36mis_palindrome\u001b[1;34m(word)\u001b[0m\n\u001b[0;32m      1\u001b[0m \u001b[1;32mdef\u001b[0m \u001b[0mis_palindrome\u001b[0m\u001b[1;33m(\u001b[0m\u001b[0mword\u001b[0m\u001b[1;33m)\u001b[0m\u001b[1;33m:\u001b[0m\u001b[1;33m\u001b[0m\u001b[1;33m\u001b[0m\u001b[0m\n\u001b[1;32m----> 2\u001b[1;33m     \u001b[1;32mif\u001b[0m \u001b[0mword\u001b[0m\u001b[1;33m.\u001b[0m\u001b[0mreverse\u001b[0m\u001b[1;33m(\u001b[0m\u001b[1;33m)\u001b[0m\u001b[1;33m==\u001b[0m\u001b[0mword\u001b[0m\u001b[1;33m:\u001b[0m\u001b[1;33m\u001b[0m\u001b[1;33m\u001b[0m\u001b[0m\n\u001b[0m\u001b[0;32m      3\u001b[0m         \u001b[0mb\u001b[0m\u001b[1;33m=\u001b[0m\u001b[1;32mTrue\u001b[0m\u001b[1;33m\u001b[0m\u001b[1;33m\u001b[0m\u001b[0m\n\u001b[0;32m      4\u001b[0m     \u001b[0mb\u001b[0m\u001b[1;33m=\u001b[0m\u001b[1;32mFalse\u001b[0m\u001b[1;33m\u001b[0m\u001b[1;33m\u001b[0m\u001b[0m\n",
      "\u001b[1;31mAttributeError\u001b[0m: 'str' object has no attribute 'reverse'"
     ]
    }
   ],
   "source": [
    "print(is_palindrome(\"racecar\"))\n",
    "print(is_palindrome(\"stars\"))\n",
    "print(is_palindrome(\"토마토\"))\n",
    "print(is_palindrome(\"kayak\"))\n",
    "print(is_palindrome(\"hello\"))"
   ]
  },
  {
   "cell_type": "code",
   "execution_count": 8,
   "metadata": {},
   "outputs": [
    {
     "name": "stdout",
     "output_type": "stream",
     "text": [
      "True\n",
      "False\n",
      "True\n",
      "True\n",
      "False\n"
     ]
    }
   ],
   "source": [
    "def is_palindrome(word):\n",
    "    if ''.join(reversed(word))==word:\n",
    "        b=True\n",
    "    else:\n",
    "        b=False\n",
    "    \n",
    "    return b\n",
    "    \n",
    "print(is_palindrome(\"racecar\"))\n",
    "print(is_palindrome(\"stars\"))\n",
    "print(is_palindrome(\"토마토\"))\n",
    "print(is_palindrome(\"kayak\"))\n",
    "print(is_palindrome(\"hello\"))"
   ]
  },
  {
   "cell_type": "code",
   "execution_count": 4,
   "metadata": {},
   "outputs": [
    {
     "data": {
      "text/plain": [
       "<reversed at 0x21ce2c31a88>"
      ]
     },
     "execution_count": 4,
     "metadata": {},
     "output_type": "execute_result"
    }
   ],
   "source": [
    "word=\"노상원\"\n",
    "\n",
    "\n",
    "reversed(word)"
   ]
  },
  {
   "cell_type": "code",
   "execution_count": 7,
   "metadata": {},
   "outputs": [
    {
     "data": {
      "text/plain": [
       "'원상노'"
      ]
     },
     "execution_count": 7,
     "metadata": {},
     "output_type": "execute_result"
    }
   ],
   "source": [
    "word[::-1]"
   ]
  },
  {
   "cell_type": "code",
   "execution_count": null,
   "metadata": {},
   "outputs": [],
   "source": []
  }
 ],
 "metadata": {
  "kernelspec": {
   "display_name": "Python 3",
   "language": "python",
   "name": "python3"
  },
  "language_info": {
   "codemirror_mode": {
    "name": "ipython",
    "version": 3
   },
   "file_extension": ".py",
   "mimetype": "text/x-python",
   "name": "python",
   "nbconvert_exporter": "python",
   "pygments_lexer": "ipython3",
   "version": "3.7.6"
  }
 },
 "nbformat": 4,
 "nbformat_minor": 4
}
