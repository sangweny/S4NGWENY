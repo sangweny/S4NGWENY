{
 "cells": [
  {
   "cell_type": "code",
   "execution_count": null,
   "metadata": {},
   "outputs": [],
   "source": [
    "# 임금 계산기\n",
    "\n",
    "wage=5\n",
    "e_r=1142.16\n",
    "time = int(input('네가 일한 시간은?'))\n",
    "dollar = wage*time\n",
    "won = dollar*e_r\n",
    "print(f\"{time}시간에 {dollar}달러 벌었습니다.\")\n",
    "print(f\"{time}시간에 {won}원 벌었습니다.\")"
   ]
  },
  {
   "cell_type": "code",
   "execution_count": null,
   "metadata": {},
   "outputs": [],
   "source": [
    "# 가위바위보 (1)\n",
    "a=input('철수야 넌 뭐낼거야?') \n",
    "b=input('영희야 넌 뭐낼거야?')\n",
    "\n",
    "if a=='가위':\n",
    "    if b=='가위':\n",
    "        print('비겼습니다.')\n",
    "    elif b=='바위':\n",
    "        print('영희가 이겼습니다.')\n",
    "    else :\n",
    "        print('철수가 이겼습니다.')\n",
    "        \n",
    "elif a=='바위':\n",
    "    if b=='가위':\n",
    "        print('영희가 이겼습니다.')\n",
    "    elif b=='바위':\n",
    "        print('비겼습니다')\n",
    "    else :\n",
    "        print('철수가 이겼습니다.')\n",
    "        \n",
    "elif a=='보':\n",
    "    if b=='가위':\n",
    "        print('철수가 이겼습니다.')\n",
    "    elif b=='바위':\n",
    "        print('영희가 이겼습니다.')\n",
    "    else :\n",
    "        print('비겼습니다')"
   ]
  },
  {
   "cell_type": "code",
   "execution_count": null,
   "metadata": {},
   "outputs": [],
   "source": [
    "# 가위바위보 (2)\n",
    "\n",
    "a=input('철수?')\n",
    "b=input('영희?')\n",
    "\n",
    "if a==b:\n",
    "    print('비겼습니다.')\n",
    "else:\n",
    "    if [a,b]==['가위','보'] or ['바위','가위'] or ['보','가위']:\n",
    "        print('철수 승')\n",
    "    else :\n",
    "        print('영희 승')"
   ]
  },
  {
   "cell_type": "code",
   "execution_count": null,
   "metadata": {},
   "outputs": [],
   "source": [
    "# 100 이하의 모든 짝수 출력\n",
    "a=1 \n",
    "while a < 101:\n",
    "\n",
    "    a+=1\n",
    "    \n",
    "    if a%2==0:\n",
    "        print(a)"
   ]
  },
  {
   "cell_type": "code",
   "execution_count": 5,
   "metadata": {
    "scrolled": true
   },
   "outputs": [
    {
     "name": "stdout",
     "output_type": "stream",
     "text": [
      "*     \n",
      "**    \n",
      "***   \n",
      "****  \n",
      "***** \n",
      "     *\n",
      "    **\n",
      "   ***\n",
      "  ****\n",
      " *****\n",
      "*****\n",
      "**** \n",
      "***  \n",
      "**   \n",
      "*    \n",
      "     \n"
     ]
    }
   ],
   "source": [
    "# 피라미드\n",
    "for i in range(1,6):\n",
    "    star=\"*\"*i\n",
    "    blank=\" \"*(6-i)\n",
    "    \n",
    "    print(star+blank)\n",
    "    \n",
    "for y in range(1,6):\n",
    "    staa=\"*\"*y\n",
    "    blann=\" \"*(6-y)\n",
    "    \n",
    "    print(blann+staa)\n",
    "    \n",
    "    \n",
    "for j in range(0,6):\n",
    "    stra=\"*\"*(5-j)\n",
    "    blakn=\" \"*j\n",
    "    \n",
    "    print(stra+blakn)"
   ]
  },
  {
   "cell_type": "code",
   "execution_count": 4,
   "metadata": {},
   "outputs": [
    {
     "name": "stdout",
     "output_type": "stream",
     "text": [
      "115\n"
     ]
    }
   ],
   "source": [
    "# 100 이상의 자연수 중 가장 작은 23의 배수 구하기\n",
    "a=100\n",
    "\n",
    "while (a-1)%23!=0:\n",
    "    a+=1\n",
    "    \n",
    "    if a%23==0:\n",
    "        print(a)"
   ]
  },
  {
   "cell_type": "code",
   "execution_count": 17,
   "metadata": {},
   "outputs": [
    {
     "name": "stdout",
     "output_type": "stream",
     "text": [
      "99\n",
      "You get an A\n"
     ]
    }
   ],
   "source": [
    "# 성적 통보\n",
    "r_g = int(input())\n",
    "\n",
    "if r_g >= 90:\n",
    "    G=\"A\"\n",
    "else:\n",
    "    if r_g >= 80:\n",
    "        G=\"B\"\n",
    "    else:\n",
    "        if r_g >= 70:\n",
    "            G=\"C\"\n",
    "        else:\n",
    "            if r_g>=60:\n",
    "                G=\"D\"\n",
    "            else:\n",
    "                G=\"F\"\n",
    "                \n",
    "if G==\"A\" or \"F\":\n",
    "    print(f\"You get an {G}\")\n",
    "else:\n",
    "    print(f\"You get a {G}\")"
   ]
  },
  {
   "cell_type": "code",
   "execution_count": 18,
   "metadata": {},
   "outputs": [
    {
     "name": "stdout",
     "output_type": "stream",
     "text": [
      "8\n",
      "16\n",
      "32\n",
      "40\n",
      "56\n",
      "64\n",
      "80\n",
      "88\n"
     ]
    }
   ],
   "source": [
    "# 100 이하 자연수 중 8의 배수이지만 12의 배수 아닌거 출력하기 \n",
    "while i <= 100:\n",
    "    i += 1\n",
    "    \n",
    "    if i % 8 == 0:\n",
    "        if i % 12 != 0:\n",
    "            print(i)\n",
    "        else:\n",
    "            continue"
   ]
  },
  {
   "cell_type": "code",
   "execution_count": 19,
   "metadata": {},
   "outputs": [
    {
     "data": {
      "text/plain": [
       "'C:\\\\Users\\\\sangw\\\\Documents\\\\Untitled Folder'"
      ]
     },
     "execution_count": 19,
     "metadata": {},
     "output_type": "execute_result"
    }
   ],
   "source": [
    "import os\n",
    "os.getcwd()"
   ]
  },
  {
   "cell_type": "markdown",
   "metadata": {},
   "source": [
    "수정사항 추가함"
   ]
  },
  {
   "cell_type": "code",
   "execution_count": null,
   "metadata": {},
   "outputs": [],
   "source": []
  }
 ],
 "metadata": {
  "kernelspec": {
   "display_name": "Python 3",
   "language": "python",
   "name": "python3"
  },
  "language_info": {
   "codemirror_mode": {
    "name": "ipython",
    "version": 3
   },
   "file_extension": ".py",
   "mimetype": "text/x-python",
   "name": "python",
   "nbconvert_exporter": "python",
   "pygments_lexer": "ipython3",
   "version": "3.7.6"
  }
 },
 "nbformat": 4,
 "nbformat_minor": 4
}
